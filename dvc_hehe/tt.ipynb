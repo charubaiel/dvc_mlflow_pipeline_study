{
 "cells": [
  {
   "cell_type": "code",
   "execution_count": 1,
   "metadata": {},
   "outputs": [],
   "source": [
    "import pandas as pd\n",
    "import requests as r\n",
    "import re\n",
    "from tqdm.auto import tqdm"
   ]
  },
  {
   "cell_type": "code",
   "execution_count": 2,
   "metadata": {},
   "outputs": [],
   "source": [
    "zz = r.get('https://datasets.imdbws.com/')"
   ]
  },
  {
   "cell_type": "code",
   "execution_count": 7,
   "metadata": {},
   "outputs": [],
   "source": [
    "datasets_urls = list(map(lambda x: x.split('>')[0],re.findall('(?:https).*>?',zz.text)))[1:]"
   ]
  },
  {
   "cell_type": "code",
   "execution_count": 8,
   "metadata": {},
   "outputs": [
    {
     "data": {
      "text/plain": [
       "['https://datasets.imdbws.com/title.akas.tsv.gz',\n",
       " 'https://datasets.imdbws.com/title.basics.tsv.gz',\n",
       " 'https://datasets.imdbws.com/title.crew.tsv.gz',\n",
       " 'https://datasets.imdbws.com/title.episode.tsv.gz',\n",
       " 'https://datasets.imdbws.com/title.principals.tsv.gz',\n",
       " 'https://datasets.imdbws.com/title.ratings.tsv.gz']"
      ]
     },
     "execution_count": 8,
     "metadata": {},
     "output_type": "execute_result"
    }
   ],
   "source": [
    "datasets_urls"
   ]
  },
  {
   "cell_type": "code",
   "execution_count": 5,
   "metadata": {},
   "outputs": [],
   "source": [
    "ratings = pd.read_csv(\"https://datasets.imdbws.com/title.ratings.tsv.gz\",sep='\\t',compression='gzip')\n",
    "ratings = ratings[ratings['numVotes']>100].set_index('tconst')"
   ]
  },
  {
   "cell_type": "code",
   "execution_count": 11,
   "metadata": {},
   "outputs": [
    {
     "data": {
      "application/vnd.jupyter.widget-view+json": {
       "model_id": "5b4981c3198e4692b64f1bf35945e82e",
       "version_major": 2,
       "version_minor": 0
      },
      "text/plain": [
       "https://datasets.imdbws.com/title.akas.tsv.gz: 0it [00:00, ?it/s]"
      ]
     },
     "metadata": {},
     "output_type": "display_data"
    },
    {
     "name": "stderr",
     "output_type": "stream",
     "text": [
      "/tmp/ipykernel_10724/3758304121.py:5: DtypeWarning: Columns (7) have mixed types.Specify dtype option on import or set low_memory=False.\n",
      "  for sample in tqdm(tmp_df,desc=url):\n"
     ]
    },
    {
     "data": {
      "application/vnd.jupyter.widget-view+json": {
       "model_id": "086e7da93fe243f1a502f9f136a4b07b",
       "version_major": 2,
       "version_minor": 0
      },
      "text/plain": [
       "https://datasets.imdbws.com/title.basics.tsv.gz: 0it [00:00, ?it/s]"
      ]
     },
     "metadata": {},
     "output_type": "display_data"
    },
    {
     "name": "stderr",
     "output_type": "stream",
     "text": [
      "/tmp/ipykernel_10724/3758304121.py:5: DtypeWarning: Columns (5) have mixed types.Specify dtype option on import or set low_memory=False.\n",
      "  for sample in tqdm(tmp_df,desc=url):\n",
      "/tmp/ipykernel_10724/3758304121.py:5: DtypeWarning: Columns (4) have mixed types.Specify dtype option on import or set low_memory=False.\n",
      "  for sample in tqdm(tmp_df,desc=url):\n"
     ]
    },
    {
     "data": {
      "application/vnd.jupyter.widget-view+json": {
       "model_id": "d28d07b04d24492fb8b63eb0d8536add",
       "version_major": 2,
       "version_minor": 0
      },
      "text/plain": [
       "https://datasets.imdbws.com/title.crew.tsv.gz: 0it [00:00, ?it/s]"
      ]
     },
     "metadata": {},
     "output_type": "display_data"
    },
    {
     "data": {
      "application/vnd.jupyter.widget-view+json": {
       "model_id": "647457f9e6214da89fbd11d0fa27ec72",
       "version_major": 2,
       "version_minor": 0
      },
      "text/plain": [
       "https://datasets.imdbws.com/title.episode.tsv.gz: 0it [00:00, ?it/s]"
      ]
     },
     "metadata": {},
     "output_type": "display_data"
    },
    {
     "data": {
      "application/vnd.jupyter.widget-view+json": {
       "model_id": "6324d80e917849229e11aa45e48ebe46",
       "version_major": 2,
       "version_minor": 0
      },
      "text/plain": [
       "https://datasets.imdbws.com/title.principals.tsv.gz: 0it [00:00, ?it/s]"
      ]
     },
     "metadata": {},
     "output_type": "display_data"
    }
   ],
   "source": [
    "df_dict = {}\n",
    "for url in datasets_urls[:-1]:\n",
    "    tmp_df = pd.read_csv(url,compression='gzip',sep='\\t',chunksize=100000)\n",
    "    tmp_ttl_df = pd.DataFrame()\n",
    "    for sample in tqdm(tmp_df,desc=url):\n",
    "        try:\n",
    "            tmp_ttl_df = tmp_ttl_df.append(sample[sample['tconst'].isin(ratings.index)])\n",
    "        except:\n",
    "            tmp_ttl_df = tmp_ttl_df.append(sample[sample['titleId'].isin(ratings.index)])\n",
    "\n",
    "    df_dict[url.replace('.','_').split('com/')[1]] = tmp_ttl_df    "
   ]
  },
  {
   "cell_type": "code",
   "execution_count": 12,
   "metadata": {},
   "outputs": [
    {
     "data": {
      "text/plain": [
       "dict_keys(['title.akas.tsv.gz', 'title.basics.tsv.gz', 'title.crew.tsv.gz', 'title.episode.tsv.gz', 'title.principals.tsv.gz'])"
      ]
     },
     "execution_count": 12,
     "metadata": {},
     "output_type": "execute_result"
    }
   ],
   "source": [
    "df_dict.keys()"
   ]
  },
  {
   "cell_type": "code",
   "execution_count": null,
   "metadata": {},
   "outputs": [],
   "source": []
  },
  {
   "cell_type": "code",
   "execution_count": null,
   "metadata": {},
   "outputs": [],
   "source": [
    "basics['titleType'].value_counts()"
   ]
  },
  {
   "cell_type": "code",
   "execution_count": null,
   "metadata": {},
   "outputs": [],
   "source": [
    "df_tmp = basics[basics['tconst'].isin(df_rating.index) & basics['titleType'].isin(['movie','tvMovie','tvMiniSeries'])].set_index('tconst')"
   ]
  },
  {
   "cell_type": "code",
   "execution_count": null,
   "metadata": {},
   "outputs": [],
   "source": [
    "df = df_tmp.join(df_rating).join(crew.set_index('tconst'))"
   ]
  },
  {
   "cell_type": "code",
   "execution_count": null,
   "metadata": {},
   "outputs": [],
   "source": [
    "df = pd.get_dummies(df,columns=['genres'])"
   ]
  },
  {
   "cell_type": "code",
   "execution_count": null,
   "metadata": {},
   "outputs": [],
   "source": [
    "df.filter(regex='^[genres]')"
   ]
  }
 ],
 "metadata": {
  "interpreter": {
   "hash": "916dbcbb3f70747c44a77c7bcd40155683ae19c65e1c03b4aa3499c5328201f1"
  },
  "kernelspec": {
   "display_name": "Python 3.8.10 64-bit",
   "language": "python",
   "name": "python3"
  },
  "language_info": {
   "codemirror_mode": {
    "name": "ipython",
    "version": 3
   },
   "file_extension": ".py",
   "mimetype": "text/x-python",
   "name": "python",
   "nbconvert_exporter": "python",
   "pygments_lexer": "ipython3",
   "version": "3.8.10"
  },
  "orig_nbformat": 4
 },
 "nbformat": 4,
 "nbformat_minor": 2
}
